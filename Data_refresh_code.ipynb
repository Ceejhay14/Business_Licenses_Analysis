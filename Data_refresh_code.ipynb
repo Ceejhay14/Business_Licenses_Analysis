{
 "cells": [
  {
   "cell_type": "code",
   "execution_count": 2,
   "metadata": {},
   "outputs": [],
   "source": [
    "from sqlalchemy import create_engine, MetaData, Table, Column, Integer, String, select\n",
    "import requests\n",
    "import os"
   ]
  },
  {
   "cell_type": "code",
   "execution_count": 3,
   "metadata": {},
   "outputs": [],
   "source": [
    "# API endpoint\n",
    "url = \"https://data.cityofchicago.org/resource/uupf-x98q.json\"\n",
    "response = requests.get(url)\n",
    "data = response.json()"
   ]
  },
  {
   "cell_type": "code",
   "execution_count": 4,
   "metadata": {},
   "outputs": [],
   "source": [
    "db_pass = os.getenv(\"db_pass\")"
   ]
  },
  {
   "cell_type": "code",
   "execution_count": 6,
   "metadata": {},
   "outputs": [],
   "source": [
    "dbname=\"business_owners\"\n",
    "user=\"postgres\"\n",
    "password=db_pass\n",
    "host=\"localhost\"\n",
    "port=\"5432\""
   ]
  },
  {
   "cell_type": "code",
   "execution_count": 7,
   "metadata": {},
   "outputs": [],
   "source": [
    "engine = create_engine(f'postgresql+psycopg2://{user}:{password}@{host}/{dbname}')\n",
    "metadata = MetaData()"
   ]
  },
  {
   "cell_type": "code",
   "execution_count": null,
   "metadata": {},
   "outputs": [],
   "source": [
    "chicago_data = Table(\n",
    "    'chicago_data', metadata,\n",
    "    Column('ID', Integer, primary_key=True),\n",
    "    Column('column1', String),\n",
    "    Column('column2', String),\n",
    "    Column('column3', Integer)\n",
    ")"
   ]
  },
  {
   "cell_type": "code",
   "execution_count": null,
   "metadata": {},
   "outputs": [],
   "source": [
    "    ID Text,\n",
    "    License_ID NUMERIC(20),\n",
    "    Account_Number NUMERIC(20),\n",
    "    Site_Number NUMERIC(20),\n",
    "    LEGAL_NAME Text,\n",
    "    DOING_BUSINESS_AS_NAME Text,\n",
    "    ADDRESS Text,\n",
    "    CITY Text,\n",
    "    STATE Text,\n",
    "    ZIP_CODE Text,\n",
    "    WARD NUMERIC(20),\n",
    "    PRECINCT NUMERIC(20),\n",
    "    WARD_PRECINCT Text,\n",
    "    POLICE_DISTRICT NUMERIC(20),\n",
    "    LICENSE_CODE NUMERIC(20),\n",
    "    LICENSE_DESCRIPTION Text,\n",
    "    BUSINESS_ACTIVITY_ID Text,\n",
    "    BUSINESS_ACTIVITY Text,\n",
    "    LICENSE_NUMBER NUMERIC(20),\n",
    "    APPLICATION_TYPE Text,\n",
    "    APPLICATION_CREATED_DATE TIMESTAMP,\n",
    "    APPLICATION_REQUIREMENTS_COMPLETE TIMESTAMP,\n",
    "    PAYMENT_DATE TIMESTAMP,\n",
    "    CONDITIONAL_APPROVAL Text,\n",
    "    LICENSE_TERM_START_DATE TIMESTAMP,\n",
    "    LICENSE_TERM_EXPIRATION_DATE TIMESTAMP,\n",
    "    LICENSE_APPROVED_FOR_ISSUANCE TIMESTAMP,\n",
    "    DATE_ISSUED TIMESTAMP,\n",
    "    LICENSE_STATUS Text,\n",
    "    LICENSE_STATUS_CHANGE_DATE TIMESTAMP,\n",
    "    SSA Text,\n",
    "    LATITUDE NUMERIC(20),\n",
    "    LONGITUDE NUMERIC(20),\n",
    "    LOC Point"
   ]
  },
  {
   "cell_type": "code",
   "execution_count": null,
   "metadata": {},
   "outputs": [],
   "source": []
  }
 ],
 "metadata": {
  "kernelspec": {
   "display_name": "base",
   "language": "python",
   "name": "python3"
  },
  "language_info": {
   "codemirror_mode": {
    "name": "ipython",
    "version": 3
   },
   "file_extension": ".py",
   "mimetype": "text/x-python",
   "name": "python",
   "nbconvert_exporter": "python",
   "pygments_lexer": "ipython3",
   "version": "3.12.7"
  }
 },
 "nbformat": 4,
 "nbformat_minor": 2
}
