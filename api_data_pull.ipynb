{
 "cells": [
  {
   "cell_type": "code",
   "execution_count": 31,
   "metadata": {},
   "outputs": [],
   "source": [
    "# Only need to run if you want to collect all Data\n",
    "# There is a file that only get new rows of data \n",
    "\n",
    "# FUNCTION:\n",
    "# WILL COLLECT ALL DATA FROM API ENDPOINT \n",
    "# CLEAN, DROP, COLUMNS SO POSTGRESQL WILL BE ABLE TO CAST THE DATA TO ITS REQUIRED DATA TYPE\n",
    "# EDIT column datatypes in SQL connection \n",
    "# DATA LINK: https://data.cityofchicago.org/Community-Economic-Development/Business-Licenses/r5kz-chrr/about_data"
   ]
  },
  {
   "cell_type": "code",
   "execution_count": 32,
   "metadata": {},
   "outputs": [],
   "source": [
    "import requests\n",
    "import pandas as pd\n",
    "from sqlalchemy import create_engine, text\n",
    "import os"
   ]
  },
  {
   "cell_type": "code",
   "execution_count": 33,
   "metadata": {},
   "outputs": [],
   "source": [
    "db_pass = os.getenv(\"db_pass\")\n",
    "\n",
    "dbname=\"business_owners\"\n",
    "user=\"postgres\"\n",
    "password=db_pass\n",
    "host=\"localhost\"\n",
    "port=\"5432\""
   ]
  },
  {
   "cell_type": "code",
   "execution_count": 34,
   "metadata": {},
   "outputs": [],
   "source": [
    "business_licenses_URL = \"https://data.cityofchicago.org/resource/r5kz-chrr.json\"\n",
    "LIMIT = 1000"
   ]
  },
  {
   "cell_type": "code",
   "execution_count": 35,
   "metadata": {},
   "outputs": [],
   "source": [
    "engine = create_engine(f'postgresql://{user}:{password}@{host}:{port}/{dbname}')"
   ]
  },
  {
   "cell_type": "code",
   "execution_count": 36,
   "metadata": {},
   "outputs": [],
   "source": [
    "def fetch_all_data():\n",
    "    offset = 0\n",
    "    all_data = []\n",
    "\n",
    "    while True:\n",
    "        params = {\"$limit\": LIMIT, \"$offset\": offset}\n",
    "        response = requests.get(business_licenses_URL, params=params)\n",
    "\n",
    "        if response.status_code != 200:\n",
    "            print(f\"Error: {response.status_code}\")\n",
    "            break\n",
    "\n",
    "        data = response.json()\n",
    "        if not data:\n",
    "            break  # Stop when there's no more data\n",
    "\n",
    "        all_data.extend(data)\n",
    "        offset += LIMIT\n",
    "        print(f\"Fetched {offset} records...\")\n",
    "\n",
    "    return all_data"
   ]
  },
  {
   "cell_type": "code",
   "execution_count": null,
   "metadata": {},
   "outputs": [],
   "source": [
    "json_data = fetch_all_data()"
   ]
  },
  {
   "cell_type": "code",
   "execution_count": 38,
   "metadata": {},
   "outputs": [],
   "source": [
    "business_licenses_df = pd.DataFrame(json_data)"
   ]
  },
  {
   "cell_type": "code",
   "execution_count": 39,
   "metadata": {},
   "outputs": [],
   "source": [
    "# drop misscellaneous columns\n",
    "business_licenses_df = business_licenses_df.drop(columns=[\n",
    "    ':@computed_region_vrxf_vc4k',\n",
    "    ':@computed_region_awaf_s7ux',\n",
    "    ':@computed_region_6mkv_f3dw',\n",
    "    ':@computed_region_bdys_3d7i',\n",
    "    ':@computed_region_43wa_7qmu'\n",
    "])"
   ]
  },
  {
   "cell_type": "code",
   "execution_count": 40,
   "metadata": {},
   "outputs": [],
   "source": [
    "# Location from json file doesn't have the right format to cast to POINT data type in POSTGRESQL\n",
    "# This code modify location column so it has the right format\n",
    "business_licenses_df['location'] = business_licenses_df.apply(lambda row: f\"({row['longitude']},{row['latitude']})\", axis=1)"
   ]
  },
  {
   "cell_type": "code",
   "execution_count": null,
   "metadata": {},
   "outputs": [],
   "source": [
    "# Append new rows acquired \n",
    "with engine.connect() as conn:\n",
    "    business_licenses_df.to_sql('business_licenses_uncleaned',conn,if_exists='replace',index=False)\n",
    "    conn.commit()\n",
    "    print(\"Data inserted successfully!\")"
   ]
  },
  {
   "cell_type": "code",
   "execution_count": 42,
   "metadata": {},
   "outputs": [],
   "source": [
    "# Included altering column datatype in here so it only run one file for efficiency\n",
    "with engine.connect() as conn:\n",
    "    conn.execute(text(\"\"\"\n",
    "        ALTER TABLE business_licenses_uncleaned \n",
    "        ALTER COLUMN id TYPE TEXT,\n",
    "        ALTER COLUMN license_id TYPE NUMERIC(20) USING license_id::NUMERIC(20),\n",
    "        ALTER COLUMN account_number TYPE NUMERIC(20) USING account_number::NUMERIC(20),\n",
    "        ALTER COLUMN site_number TYPE NUMERIC(20) USING site_number::NUMERIC(20),\n",
    "        ALTER COLUMN legal_name TYPE TEXT,\n",
    "        ALTER COLUMN doing_business_as_name TYPE TEXT,\n",
    "        ALTER COLUMN address TYPE TEXT,\n",
    "        ALTER COLUMN city TYPE TEXT,\n",
    "        ALTER COLUMN state TYPE TEXT,\n",
    "        ALTER COLUMN zip_code TYPE TEXT,\n",
    "        ALTER COLUMN ward TYPE NUMERIC(20) USING ward::NUMERIC(20),\n",
    "        ALTER COLUMN precinct TYPE NUMERIC(20) USING precinct::NUMERIC(20),\n",
    "        ALTER COLUMN ward_precinct TYPE TEXT,\n",
    "        ALTER COLUMN police_district TYPE NUMERIC(20) USING police_district::NUMERIC(20),\n",
    "        ALTER COLUMN community_area TYPE NUMERIC(20) USING community_area::NUMERIC(20),\n",
    "        ALTER COLUMN community_area_name TYPE TEXT,\n",
    "        ALTER COLUMN neighborhood TYPE TEXT,\n",
    "        ALTER COLUMN license_code TYPE NUMERIC(20) USING license_code::NUMERIC(20),\n",
    "        ALTER COLUMN license_description TYPE TEXT,\n",
    "        ALTER COLUMN business_activity_id TYPE TEXT,\n",
    "        ALTER COLUMN business_activity TYPE TEXT,\n",
    "        ALTER COLUMN license_number TYPE NUMERIC(20) USING license_number::NUMERIC(20),\n",
    "        ALTER COLUMN application_type TYPE TEXT,\n",
    "        ALTER COLUMN application_created_date TYPE TIMESTAMP USING application_created_date::TIMESTAMP,\n",
    "        ALTER COLUMN application_requirements_complete TYPE TIMESTAMP USING application_requirements_complete::TIMESTAMP,\n",
    "        ALTER COLUMN payment_date TYPE TIMESTAMP USING payment_date::TIMESTAMP,\n",
    "        ALTER COLUMN conditional_approval TYPE TEXT,\n",
    "        ALTER COLUMN license_start_date TYPE TIMESTAMP USING license_start_date::TIMESTAMP,\n",
    "        ALTER COLUMN expiration_date TYPE TIMESTAMP USING expiration_date::TIMESTAMP,\n",
    "        ALTER COLUMN license_approved_for_issuance TYPE TIMESTAMP USING license_approved_for_issuance::TIMESTAMP,\n",
    "        ALTER COLUMN date_issued TYPE TIMESTAMP USING date_issued::TIMESTAMP,\n",
    "        ALTER COLUMN license_status TYPE TEXT,\n",
    "        ALTER COLUMN license_status_change_date TYPE TIMESTAMP USING license_status_change_date::TIMESTAMP,\n",
    "        ALTER COLUMN ssa TYPE TEXT,\n",
    "        ALTER COLUMN latitude TYPE NUMERIC(20,10) USING latitude::NUMERIC(20,10),\n",
    "        ALTER COLUMN longitude TYPE NUMERIC(20,10) USING longitude::NUMERIC(20,10),\n",
    "        ALTER COLUMN location TYPE POINT USING location::POINT;\n",
    "    \"\"\"))\n",
    "    conn.commit()"
   ]
  }
 ],
 "metadata": {
  "kernelspec": {
   "display_name": "base",
   "language": "python",
   "name": "python3"
  },
  "language_info": {
   "codemirror_mode": {
    "name": "ipython",
    "version": 3
   },
   "file_extension": ".py",
   "mimetype": "text/x-python",
   "name": "python",
   "nbconvert_exporter": "python",
   "pygments_lexer": "ipython3",
   "version": "3.12.7"
  }
 },
 "nbformat": 4,
 "nbformat_minor": 2
}
